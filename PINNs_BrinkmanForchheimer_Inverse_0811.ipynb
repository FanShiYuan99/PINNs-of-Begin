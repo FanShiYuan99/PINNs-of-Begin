{
 "cells": [
  {
   "cell_type": "code",
   "execution_count": 1,
   "metadata": {},
   "outputs": [],
   "source": [
    "import numpy as np\n",
    "import pandas as pd\n",
    "import torch\n",
    "import torch.nn as nn\n",
    "from random import uniform\n",
    "%matplotlib inline\n",
    "import matplotlib.pyplot as plt\n",
    "from mpl_toolkits.axes_grid1 import make_axes_locatable"
   ]
  },
  {
   "cell_type": "code",
   "execution_count": 2,
   "metadata": {},
   "outputs": [],
   "source": [
    "class MLP(nn.Module):\n",
    "    def __init__(self):\n",
    "        super(MLP, self).__init__()\n",
    "        hidden_channle = 40\n",
    "        self.net = nn.Sequential(\n",
    "            nn.Linear(1, hidden_channle), nn.Tanh(),\n",
    "            nn.Linear(hidden_channle, hidden_channle), nn.Tanh(),\n",
    "            nn.Linear(hidden_channle, hidden_channle), nn.Tanh(),\n",
    "            nn.Linear(hidden_channle, hidden_channle), nn.Tanh(),\n",
    "            nn.Linear(hidden_channle, hidden_channle), nn.Tanh(),\n",
    "            nn.Linear(hidden_channle, 1)\n",
    "        )\n",
    "        self.init_bias()\n",
    "    def forward(self,x):\n",
    "        x=self.net(x)\n",
    "        return x\n",
    "    def init_bias(self):\n",
    "        for layer in self.net.children():\n",
    "            if isinstance(layer, nn.Linear):\n",
    "                # 权重采用Xavier正态初始化\n",
    "                nn.init.xavier_normal_(layer.weight, gain=5 / 3)\n",
    "                # 偏置置0\n",
    "                nn.init.constant_(layer.bias, 0.)"
   ]
  },
  {
   "cell_type": "code",
   "execution_count": 3,
   "metadata": {},
   "outputs": [],
   "source": [
    "H = 1\n",
    "v_e = torch.tensor([0], dtype=torch.float32, requires_grad=True)   # 未知参数 10 ** -3\n",
    "v = 10 ** -3\n",
    "Epsilon = 0.4\n",
    "K = 10 ** -3\n",
    "g = 1\n",
    "r = np.sqrt((v * Epsilon) / (10 ** (-3) * K))\n",
    "def Exact_f(x, H, v, K, g, r):\n",
    "    x = x.detach().numpy()\n",
    "    f = g * K / v * (1 - np.cosh(r * (x - H / 2)) / np.cosh(r * H / 2))\n",
    "    out = torch.tensor(f.reshape(-1, 1), dtype=torch.float32, requires_grad=True)\n",
    "    return out\n",
    "def gen_traindata(num):\n",
    "    if num > 0:\n",
    "        xvals = torch.linspace(1 / (num + 1), 1, num+1)[:-1]\n",
    "        yvals = Exact_f(xvals, H = H, v = v, K = K, g = g, r = r)\n",
    "\n",
    "        return np.reshape(xvals.numpy(), (-1, 1)), np.reshape(yvals.detach().numpy(), (-1, 1))\n",
    "    else:\n",
    "        return\n",
    "\n",
    "def du_dx(x):\n",
    "    x = x.detach().numpy()\n",
    "    return g * K / v * (-r * np.sinh(r * (x - H / 2)) / np.cosh(r * H / 2))\n",
    "\n",
    "def u_function(x):\n",
    "    u = model(x)\n",
    "    return u\n",
    "\n",
    "def f_function(x, v, v_e, Epsilon, K ,g):     # v_e 未知\n",
    "    u = u_function(x)\n",
    "    u_x = torch.autograd.grad(u, x, torch.ones_like(u), retain_graph=True, create_graph=True)[0]\n",
    "    u_xx = torch.autograd.grad(u_x, x, torch.ones_like(u_x), retain_graph=True, create_graph=True)[0]\n",
    "    u_xxx = torch.autograd.grad(u_xx, x, torch.ones_like(u_xx), retain_graph=True, create_graph=True)[0]\n",
    "    f = -v_e / Epsilon * u_xx + v * u / K - g\n",
    "    df = -v_e / Epsilon * u_xxx + v * u_x / K\n",
    "    return f, df\n",
    "\n",
    "def Loss(u, x_u, x_f, v, Epsilon, K, g, H, w = 0.01):\n",
    "    f_pre, df_pre = f_function(x_f, v, v_e, Epsilon, K ,g)\n",
    "    null =  torch.zeros((x_f.shape[0], 1))\n",
    "    f_loss = loss_fn(f_pre, null)   # 内点loss\n",
    "    df_loss = loss_fn(df_pre, null)  # gloss\n",
    "    \n",
    "    u_pre = u_function(x_u)\n",
    "    u_loss = loss_fn(u_pre,u)   # 配置点loss\n",
    "    \n",
    "    ls = f_loss  + u_loss + w * df_loss\n",
    "    ls.backward()\n",
    "    return ls, v_e"
   ]
  },
  {
   "cell_type": "code",
   "execution_count": 4,
   "metadata": {},
   "outputs": [
    {
     "name": "stdout",
     "output_type": "stream",
     "text": [
      "[Epoch 1/2000] [loss: 0.5096347332000732]\n",
      "[Epoch 101/2000] [loss: 0.07964697480201721]\n",
      "[Epoch 201/2000] [loss: 0.06348776817321777]\n",
      "[Epoch 301/2000] [loss: 0.053592249751091]\n",
      "[Epoch 401/2000] [loss: 0.0433078296482563]\n",
      "[Epoch 501/2000] [loss: 0.025442564859986305]\n",
      "[Epoch 601/2000] [loss: 0.008716855198144913]\n",
      "[Epoch 701/2000] [loss: 0.003526506945490837]\n",
      "[Epoch 801/2000] [loss: 0.001845062244683504]\n",
      "[Epoch 901/2000] [loss: 0.0019253278151154518]\n",
      "[Epoch 1001/2000] [loss: 0.0008357593324035406]\n",
      "[Epoch 1101/2000] [loss: 0.0005609093932434916]\n",
      "[Epoch 1201/2000] [loss: 0.00041536279604770243]\n",
      "[Epoch 1301/2000] [loss: 0.0003206615801900625]\n",
      "[Epoch 1401/2000] [loss: 0.0002562666777521372]\n",
      "[Epoch 1501/2000] [loss: 0.00021083769388496876]\n",
      "[Epoch 1601/2000] [loss: 0.00017904271953739226]\n",
      "[Epoch 1701/2000] [loss: 0.00015485701442230493]\n",
      "[Epoch 1801/2000] [loss: 0.0001360225141979754]\n",
      "[Epoch 1901/2000] [loss: 0.00012112201511627063]\n"
     ]
    },
    {
     "data": {
      "image/png": "[encoded data removed]",
      "text/plain": [
       "<Figure size 432x288 with 1 Axes>"
      ]
     },
     "metadata": {
      "needs_background": "light"
     },
     "output_type": "display_data"
    },
    {
     "data": {
      "image/png": "[encoded data removed]",
      "text/plain": [
       "<Figure size 432x288 with 1 Axes>"
      ]
     },
     "metadata": {
      "needs_background": "light"
     },
     "output_type": "display_data"
    },
    {
     "name": "stdout",
     "output_type": "stream",
     "text": [
      "Final prediction result of v_e:  0.0010872486745938659\n"
     ]
    }
   ],
   "source": [
    "# 制造数据点集\n",
    "N_f = 10000\n",
    "N_u = 10\n",
    "x_f = np.random.rand(N_f, 1) * H\n",
    "x_f = torch.tensor(x_f.reshape(-1, 1), dtype=torch.float32, requires_grad=True)\n",
    "\n",
    "x_u_train, u_train = gen_traindata(N_u)\n",
    "x_u_train = np.vstack((x_u_train,np.reshape([0,1],(-1,1))))\n",
    "u_train = np.vstack((u_train,np.reshape([0,0],(-1,1))))\n",
    "\n",
    "x_u = torch.tensor(x_u_train.reshape(-1, 1), dtype=torch.float32, requires_grad=True)\n",
    "u = torch.tensor(u_train.reshape(-1, 1), dtype=torch.float32, requires_grad=True)\n",
    "\n",
    "x_f = torch.vstack((x_f, x_u))\n",
    "# 模型训练\n",
    "model=MLP()\n",
    "loss_fn = nn.MSELoss()  #均方差做损失函数\n",
    "optimizer = torch.optim.Adam(model.parameters(), lr=0.01)\n",
    "optimizer_v_e = torch.optim.Adam([v_e], lr=0.01)\n",
    "scheduler = torch.optim.lr_scheduler.StepLR(optimizer, step_size=100, gamma=0.9, verbose=False) # 动态递减学习率\n",
    "scheduler_v_e = torch.optim.lr_scheduler.StepLR(optimizer_v_e, step_size=500, gamma=0.1, verbose=False) # 动态递减学习率\n",
    "epochs = 2000\n",
    "Losses = []\n",
    "v_e_pre = []\n",
    "for epoch in range(epochs):\n",
    "    optimizer.zero_grad()\n",
    "    optimizer_v_e.zero_grad()\n",
    "    loss, v_e = Loss(u, x_u, x_f, v, Epsilon, K, g, H)\n",
    "    Losses.append(loss.item())\n",
    "    v_e_pre.append(v_e.item())\n",
    "    if epoch % 100 ==0:\n",
    "        print(f\"[Epoch {epoch+1}/{epochs}] [loss: {loss.item()}]\")\n",
    "    optimizer.step()\n",
    "    optimizer_v_e.step()\n",
    "    scheduler.step()\n",
    "    scheduler_v_e.step()\n",
    "    v_e_pre.append(v_e.item())\n",
    "plt.plot(Losses)\n",
    "plt.show()\n",
    "plt.plot(v_e_pre[100:],label='Pre v_e')\n",
    "plt.axhline(y=1e-3,label='Exact v_e')\n",
    "plt.legend()\n",
    "plt.show()\n",
    "print('Final prediction result of v_e: ',v_e_pre[-1])"
   ]
  },
  {
   "cell_type": "code",
   "execution_count": 5,
   "metadata": {},
   "outputs": [
    {
     "data": {
      "image/png": "[encoded data removed]",
      "text/plain": [
       "<Figure size 648x324 with 1 Axes>"
      ]
     },
     "metadata": {
      "needs_background": "light"
     },
     "output_type": "display_data"
    }
   ],
   "source": [
    "# 可视化\n",
    "x = torch.linspace(0, 1, 200, dtype=torch.float32).reshape(-1,1).requires_grad_()\n",
    "u_pre = u_function(x)\n",
    "u_pre = u_pre.reshape(-1,1)\n",
    "u_exact = Exact_f(x, H = H, v = v, K = K, g = g, r = r)\n",
    "xnp = x.detach().numpy()\n",
    "Unp = u_pre.detach().numpy()\n",
    "Uex = u_exact.detach().numpy()\n",
    "# plot:\n",
    "fig = plt.figure(figsize=(9, 4.5))\n",
    "ax = fig.add_subplot(111)\n",
    "plt.plot(xnp,Unp,marker='+',label='Pre')\n",
    "plt.plot(xnp,Uex,marker='.',label='Exact')\n",
    "plt.scatter(x_u_train, u_train, marker='*', c='black', s=100, label='Observed')\n",
    "plt.legend()\n",
    "plt.show()"
   ]
  },
  {
   "cell_type": "code",
   "execution_count": null,
   "metadata": {},
   "outputs": [],
   "source": []
  },
  {
   "cell_type": "code",
   "execution_count": null,
   "metadata": {},
   "outputs": [],
   "source": []
  }
 ],
 "metadata": {
  "kernelspec": {
   "display_name": "Python 3",
   "language": "python",
   "name": "python3"
  },
  "language_info": {
   "codemirror_mode": {
    "name": "ipython",
    "version": 3
   },
   "file_extension": ".py",
   "mimetype": "text/x-python",
   "name": "python",
   "nbconvert_exporter": "python",
   "pygments_lexer": "ipython3",
   "version": "3.7.0"
  }
 },
 "nbformat": 4,
 "nbformat_minor": 2
}
