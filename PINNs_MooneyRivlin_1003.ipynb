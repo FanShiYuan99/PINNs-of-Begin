{
 "cells": [
  {
   "cell_type": "code",
   "execution_count": 1,
   "metadata": {},
   "outputs": [],
   "source": [
    "import numpy as np\n",
    "import pandas as pd\n",
    "import torch\n",
    "import torch.nn as nn\n",
    "import matplotlib.pyplot as plt\n",
    "%matplotlib inline\n",
    "from mpl_toolkits.axes_grid1 import make_axes_locatable\n",
    "class MLP(torch.nn.Module):\n",
    "    def __init__(self, D_in=2, H=30, D_out=2):\n",
    "        super(MLP, self).__init__()\n",
    "        self.linear1 = torch.nn.Linear(D_in, H)\n",
    "        self.linear2 = torch.nn.Linear(H, H)\n",
    "        self.linear3 = torch.nn.Linear(H, H)\n",
    "        self.linear4 = torch.nn.Linear(H, D_out)\n",
    "\n",
    "        torch.nn.init.constant_(self.linear1.bias, 0.)\n",
    "        torch.nn.init.constant_(self.linear2.bias, 0.)\n",
    "        torch.nn.init.constant_(self.linear3.bias, 0.)\n",
    "        torch.nn.init.constant_(self.linear4.bias, 0.)\n",
    "\n",
    "        torch.nn.init.normal_(self.linear1.weight, mean=0, std=0.1)\n",
    "        torch.nn.init.normal_(self.linear2.weight, mean=0, std=0.1)\n",
    "        torch.nn.init.normal_(self.linear3.weight, mean=0, std=0.1)\n",
    "        torch.nn.init.normal_(self.linear4.weight, mean=0, std=0.1)\n",
    "\n",
    "    def forward(self, x):\n",
    "        y1 = torch.tanh(self.linear1(x))\n",
    "        y2 = torch.tanh(self.linear2(y1))\n",
    "        y3 = torch.tanh(self.linear3(y2))\n",
    "        y = self.linear4(y3)\n",
    "        u=y[:,0]\n",
    "        v=y[:,1]\n",
    "        return u.view(-1,1),v.view(-1,1)\n"
   ]
  },
  {
   "cell_type": "code",
   "execution_count": 2,
   "metadata": {},
   "outputs": [],
   "source": [
    "L = 4\n",
    "H = 1\n",
    "t = -5 # point load\n",
    "E = 1000 # Young modulus\n",
    "v = 0.3 # Poisson ratio\n",
    "c = 100\n",
    "c1 = 630\n",
    "c2 = -1.2\n",
    "d = 2*(c1+2*c2)\n",
    "\n",
    "def Fi(x, y):\n",
    "    u, v = u_function(x, y)\n",
    "    # 计算偏导数\n",
    "    dX_dx = torch.autograd.grad(u, x, torch.ones_like(u), retain_graph=True, create_graph=True)[0] + 1\n",
    "    dX_dy = torch.autograd.grad(u, y, torch.ones_like(u), retain_graph=True, create_graph=True)[0]\n",
    "    dY_dx = torch.autograd.grad(v, x, torch.ones_like(v), retain_graph=True, create_graph=True)[0]\n",
    "    dY_dy = torch.autograd.grad(v, y, torch.ones_like(v), retain_graph=True, create_graph=True)[0] + 1\n",
    "\n",
    "    detF = dX_dx * dY_dy - dX_dy * dY_dx\n",
    "    C11 = dX_dx * dX_dx + dY_dx * dY_dx\n",
    "    C12 = dX_dx * dX_dy + dY_dx * dY_dy\n",
    "    C21 = dX_dy * dX_dx + dY_dy * dY_dx\n",
    "    C22 = dX_dy * dX_dy + dY_dy * dY_dy\n",
    "    J = detF\n",
    "    traceC = C11 + C22\n",
    "    I1 = traceC\n",
    "    trace_C2 = C11 * C11 + C12 * C21 + C21 * C12 + C22 * C22\n",
    "    I2 = 0.5 * (traceC ** 2 - trace_C2)\n",
    "    fi = c * (J - 1) ** 2 - d * torch.log(J) + c1 * (I1 - 2) + c2 * (I2 - 1)\n",
    "    return fi\n",
    "\n",
    "def u_function(x,y):\n",
    "    u, v = model(torch.hstack((x, y)))\n",
    "    u = x * u\n",
    "    v = x * v\n",
    "    return u, v\n",
    "\n",
    "def f_function(x, y, x_u, y_u):\n",
    "    Fi_Nb = Fi(x, y)\n",
    "    u_u, v_u = u_function(x_u, y_u)\n",
    "    value = t * (y_u + v_u)\n",
    "    f = L * H * torch.sum(Fi_Nb) / Fi_Nb.data.nelement()\n",
    "    g = H * torch.sum(value) / value.data.nelement()\n",
    "\n",
    "    return f - g\n",
    "def Loss(x_f, y_f, x_u, y_u):\n",
    "    ls = f_function(x_f, y_f, x_u, y_u)\n",
    "\n",
    "    ls.backward()\n",
    "    return ls"
   ]
  },
  {
   "cell_type": "code",
   "execution_count": 3,
   "metadata": {},
   "outputs": [
    {
     "name": "stdout",
     "output_type": "stream",
     "text": [
      "[Epoch 1/2000] [loss: 71.30826568603516]\n",
      "[Epoch 201/2000] [loss: 1.522292971611023]\n",
      "[Epoch 401/2000] [loss: 1.4054241180419922]\n",
      "[Epoch 601/2000] [loss: 1.3634616136550903]\n",
      "[Epoch 801/2000] [loss: 1.3572936058044434]\n",
      "[Epoch 1001/2000] [loss: 1.3514935970306396]\n",
      "[Epoch 1201/2000] [loss: 1.3509182929992676]\n",
      "[Epoch 1401/2000] [loss: 1.350276231765747]\n",
      "[Epoch 1601/2000] [loss: 1.349894642829895]\n",
      "[Epoch 1801/2000] [loss: 1.349813461303711]\n"
     ]
    },
    {
     "data": {
      "image/png": "[encoded data removed]",
      "text/plain": [
       "<Figure size 432x288 with 1 Axes>"
      ]
     },
     "metadata": {
      "needs_background": "light"
     },
     "output_type": "display_data"
    }
   ],
   "source": [
    "N1 = 200\n",
    "N2 = 50\n",
    "x = np.linspace(0,L,N1)\n",
    "y = np.linspace(0,H,N2)\n",
    "X, Y = np.meshgrid(x,y)\n",
    "\n",
    "x_f = torch.tensor(X.reshape(-1,1), dtype=torch.float32, requires_grad=True)\n",
    "y_f = torch.tensor(Y.reshape(-1,1), dtype=torch.float32, requires_grad=True)\n",
    "\n",
    "x_right = np.ones((N2,1)) * L\n",
    "y_right = np.linspace(0,H,N2).reshape(-1,1)\n",
    "\n",
    "X_u_train = np.hstack((x_right,y_right))\n",
    "\n",
    "x_u = torch.tensor(X_u_train[:,0].reshape(-1,1), dtype=torch.float32, requires_grad=True)\n",
    "y_u = torch.tensor(X_u_train[:,1].reshape(-1,1), dtype=torch.float32, requires_grad=True)\n",
    "\n",
    "model = MLP()\n",
    "loss_fn = nn.MSELoss()\n",
    "optimizer = torch.optim.Adam(model.parameters(), lr=0.01)\n",
    "scheduler = torch.optim.lr_scheduler.StepLR(optimizer, step_size=500, gamma=0.1)\n",
    "epochs = 2000\n",
    "Losses = []\n",
    "for epoch in range(epochs):\n",
    "    optimizer.zero_grad()\n",
    "    loss = Loss(x_f, y_f, x_u, y_u)\n",
    "    Losses.append(loss.item())\n",
    "    if epoch % 200 ==0:\n",
    "        print(f\"[Epoch {epoch+1}/{epochs}] [loss: {loss.item()}]\")\n",
    "    optimizer.step()\n",
    "    scheduler.step()\n",
    "\n",
    "plt.plot(Losses)\n",
    "plt.show()"
   ]
  },
  {
   "cell_type": "code",
   "execution_count": 4,
   "metadata": {},
   "outputs": [
    {
     "name": "stderr",
     "output_type": "stream",
     "text": [
      "E:\\anaconda3\\lib\\site-packages\\torch\\functional.py:504: UserWarning: torch.meshgrid: in an upcoming release, it will be required to pass the indexing argument. (Triggered internally at C:\\actions-runner\\_work\\pytorch\\pytorch\\builder\\windows\\pytorch\\aten\\src\\ATen\\native\\TensorShape.cpp:3191.)\n",
      "  return _VF.meshgrid(tensors, **kwargs)  # type: ignore[attr-defined]\n"
     ]
    },
    {
     "data": {
      "image/png": "[encoded data removed]",
      "text/plain": [
       "<Figure size 648x288 with 1 Axes>"
      ]
     },
     "metadata": {
      "needs_background": "light"
     },
     "output_type": "display_data"
    }
   ],
   "source": [
    "N1 = 40\n",
    "N2 = 10\n",
    "x = torch.linspace(0,L,N1)\n",
    "y = torch.linspace(0,H,N2)\n",
    "X, Y = torch.meshgrid(x,y)\n",
    "X = X.reshape(-1,1)\n",
    "Y = Y.reshape(-1,1)\n",
    "plt.figure(figsize=(9,4))\n",
    "u, v = u_function(X,Y)\n",
    "xx = X + u\n",
    "yy = Y + v\n",
    "xnp = xx.detach().numpy()\n",
    "ynp = yy.detach().numpy()\n",
    "plt.scatter(xnp,ynp)\n",
    "plt.show()"
   ]
  },
  {
   "cell_type": "code",
   "execution_count": null,
   "metadata": {},
   "outputs": [],
   "source": []
  },
  {
   "cell_type": "code",
   "execution_count": null,
   "metadata": {},
   "outputs": [],
   "source": []
  }
 ],
 "metadata": {
  "kernelspec": {
   "display_name": "Python 3",
   "language": "python",
   "name": "python3"
  },
  "language_info": {
   "codemirror_mode": {
    "name": "ipython",
    "version": 3
   },
   "file_extension": ".py",
   "mimetype": "text/x-python",
   "name": "python",
   "nbconvert_exporter": "python",
   "pygments_lexer": "ipython3",
   "version": "3.7.0"
  }
 },
 "nbformat": 4,
 "nbformat_minor": 2
}
